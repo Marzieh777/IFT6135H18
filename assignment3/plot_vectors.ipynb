{
 "cells": [
  {
   "cell_type": "code",
   "execution_count": 92,
   "metadata": {},
   "outputs": [],
   "source": [
    "import torch\n",
    "from torch import nn\n",
    "import torch.nn.functional as F\n",
    "from ntm import NTM\n",
    "from sequence_generator import *\n",
    "from torch.autograd import Variable\n",
    "import matplotlib.pyplot as plt\n",
    "%matplotlib inline\n",
    "import numpy as np\n",
    "from IPython import display\n",
    "import time\n",
    "from mpl_toolkits.axes_grid1 import make_axes_locatable\n"
   ]
  },
  {
   "cell_type": "code",
   "execution_count": 99,
   "metadata": {},
   "outputs": [],
   "source": [
    "class RNN(nn.Module):\n",
    "    def __init__(self, input_size=9, hidden_size=100, output_size=9):\n",
    "        super(RNN, self).__init__()\n",
    "        MAX = 1024\n",
    "        EOS = torch.from_numpy(np.array(8*[0] + [1])).float()\n",
    "        self.hidden_size = hidden_size\n",
    "        self.LSTM = nn.LSTMCell(input_size, hidden_size)\n",
    "        self.fc = nn.Linear(hidden_size, output_size)\n",
    "        self.activation = torch.nn.functional.sigmoid\n",
    "        self.hidden_state0 = Parameter(torch.zeros(1, hidden_size)).float()\n",
    "        self.cell_state0 = Parameter(torch.zeros(1, hidden_size)).float()\n",
    "        self.zero_vector = Parameter(torch.zeros(MAX, 9)).float()\n",
    "        #self.zero_vector = Parameter(EOS.expand(MAX, 9))\n",
    "        \n",
    "    def step(self, input_vector, hidden_state, cell_state):\n",
    "        hidden_state, cell_state = self.LSTM(input_vector, (hidden_state, cell_state))\n",
    "        return hidden_state, cell_state, self.fc(hidden_state)\n",
    "    \n",
    "    def forward(self, input_vectors):\n",
    "        N = input_vectors.shape[0]\n",
    "        T = input_vectors.shape[1] - 1\n",
    "        \n",
    "        hidden_state = self.hidden_state0.expand(N, self.hidden_size)\n",
    "        cell_state = self.cell_state0.expand(N, self.hidden_size)\n",
    "        \n",
    "        for t in range(T + 1):\n",
    "            hidden_state, cell_state, _ = self.step(input_vectors[:, t, :], hidden_state, cell_state)\n",
    "        \n",
    "        \n",
    "        outputs = []\n",
    "        for t in range(T):\n",
    "            hidden_state, cell_state, output = self.step(self.zero_vector[:N,:], hidden_state, cell_state)\n",
    "            outputs.append(self.activation(output.unsqueeze(2).transpose(1, 2)))\n",
    "        return torch.cat(outputs, 1)\n"
   ]
  },
  {
   "cell_type": "code",
   "execution_count": 94,
   "metadata": {},
   "outputs": [],
   "source": [
    "ntmlstm = torch.load('sbatch/logs/04_02/14_24_42_LSTM_RMS_N=128_M=20_min_l=1_batch=1_lr=0.0001/ntm.pkl')\n",
    "ntmmlp = torch.load('sbatch/logs/04_02/14_13_53_MLP_RMS_N=128_M=20_min_l=1_batch=1_lr=0.0001/ntm.pkl')"
   ]
  },
  {
   "cell_type": "code",
   "execution_count": 95,
   "metadata": {},
   "outputs": [],
   "source": [
    "def get_in_and_out(seq_len, ntm=ntmmlp):\n",
    "    ntm.reset()\n",
    "    inp = create_sequence(seq_len=seq_len, batch_size=1, cuda=cuda)\n",
    "    for i in range(inp.size(0)):\n",
    "        ntm.send(inp[i])\n",
    "    outs = []\n",
    "\n",
    "    for i in range(inp.size(0) - 1):\n",
    "        x = ntm.receive(input_zero)\n",
    "        outs.append(F.sigmoid(x))\n",
    "    out = torch.stack(outs)\n",
    "    return inp.transpose(0, 1)[0].data.cpu().numpy().T, out.transpose(0,1 )[0].data.cpu().numpy().T\n"
   ]
  },
  {
   "cell_type": "code",
   "execution_count": 108,
   "metadata": {},
   "outputs": [
    {
     "name": "stdout",
     "output_type": "stream",
     "text": [
      "MLP\n"
     ]
    },
    {
     "data": {
      "image/png": "[encoded data removed]",
      "text/plain": [
       "<matplotlib.figure.Figure at 0x7f6ed4d24fd0>"
      ]
     },
     "metadata": {},
     "output_type": "display_data"
    }
   ],
   "source": [
    "plt.rcParams['figure.figsize'] = (15, 6)\n",
    "ax11 = plt.subplot2grid((4, 10), (0, 0))\n",
    "ax12 = plt.subplot2grid((4, 10), (0, 1), colspan=2)\n",
    "ax13 = plt.subplot2grid((4, 10), (0, 3), colspan=3)\n",
    "ax14 = plt.subplot2grid((4, 10), (0, 6), colspan=4)\n",
    "ax21 = plt.subplot2grid((4, 10), (1, 0))\n",
    "ax22 = plt.subplot2grid((4, 10), (1, 1), colspan=2)\n",
    "ax23 = plt.subplot2grid((4, 10), (1, 3), colspan=3)\n",
    "ax24 = plt.subplot2grid((4, 10), (1, 6), colspan=6)\n",
    "ax30 = plt.subplot2grid((4, 10), (2, 0), colspan=10)\n",
    "ax40 = plt.subplot2grid((4, 10), (3, 0), colspan=10)\n",
    "axes = [ax11, ax12, ax13, ax14, ax21, ax22, ax23, ax24, ax30, ax40]\n",
    "for ax in axes:\n",
    "    ax.axis('off')\n",
    "print('MLP')\n",
    "inp, out = get_in_and_out(10)\n",
    "ax11.imshow(inp[:-1,:-1], cmap='jet')\n",
    "ax21.imshow(out[:,:], cmap='jet')\n",
    "#ax21.imshow(np.abs(out[:,:] - inp[:-1,:-1]), cmap='jet')\n",
    "\n",
    "inp, out = get_in_and_out(20)\n",
    "ax12.imshow(inp[:-1,:-1], cmap='jet')\n",
    "ax22.imshow(out[:,:], cmap='jet')\n",
    "#ax22.imshow(np.abs(out[:,:] - inp[:-1,:-1]), cmap='jet')\n",
    "\n",
    "inp, out = get_in_and_out(30)\n",
    "ax13.imshow(inp[:-1,:-1], cmap='jet')\n",
    "ax23.imshow(out[:,:], cmap='jet')\n",
    "#ax23.imshow(np.abs(out[:,:] - inp[:-1,:-1]), cmap='jet')\n",
    "\n",
    "inp, out = get_in_and_out(40)\n",
    "ax14.imshow(inp[:-1,:-1], cmap='jet')\n",
    "ax24.imshow(out[:,:], cmap='jet')\n",
    "#ax24.imshow(np.abs(out[:,:] - inp[:-1,:-1]), cmap='jet')\n",
    "\n",
    "inp, out = get_in_and_out(100)\n",
    "ax30.imshow(inp[:-1,:-1], cmap='jet')\n",
    "ax40.imshow(out[:,:], cmap='jet')\n",
    "#ax40.imshow(np.abs(out[:,:] - inp[:-1,:-1]), cmap='jet')\n",
    "plt.show()"
   ]
  },
  {
   "cell_type": "code",
   "execution_count": 107,
   "metadata": {},
   "outputs": [
    {
     "name": "stdout",
     "output_type": "stream",
     "text": [
      "LSTM\n"
     ]
    },
    {
     "data": {
      "image/png": "[encoded data removed]",
      "text/plain": [
       "<matplotlib.figure.Figure at 0x7f6ed6c55860>"
      ]
     },
     "metadata": {},
     "output_type": "display_data"
    }
   ],
   "source": [
    "plt.rcParams['figure.figsize'] = (15, 6)\n",
    "ax11 = plt.subplot2grid((4, 10), (0, 0))\n",
    "ax12 = plt.subplot2grid((4, 10), (0, 1), colspan=2)\n",
    "ax13 = plt.subplot2grid((4, 10), (0, 3), colspan=3)\n",
    "ax14 = plt.subplot2grid((4, 10), (0, 6), colspan=4)\n",
    "ax21 = plt.subplot2grid((4, 10), (1, 0))\n",
    "ax22 = plt.subplot2grid((4, 10), (1, 1), colspan=2)\n",
    "ax23 = plt.subplot2grid((4, 10), (1, 3), colspan=3)\n",
    "ax24 = plt.subplot2grid((4, 10), (1, 6), colspan=6)\n",
    "ax30 = plt.subplot2grid((4, 10), (2, 0), colspan=10)\n",
    "ax40 = plt.subplot2grid((4, 10), (3, 0), colspan=10)\n",
    "axes = [ax11, ax12, ax13, ax14, ax21, ax22, ax23, ax24, ax30, ax40]\n",
    "for ax in axes:\n",
    "    ax.axis('off')\n",
    "print('LSTM')\n",
    "inp, out = get_in_and_out(10, ntmlstm)\n",
    "ax11.imshow(inp[:-1,:-1], cmap='jet')\n",
    "ax21.imshow(out[:,:], cmap='jet')\n",
    "\n",
    "inp, out = get_in_and_out(20, ntmlstm)\n",
    "ax12.imshow(inp[:-1,:-1], cmap='jet')\n",
    "ax22.imshow(out[:,:], cmap='jet')\n",
    "\n",
    "inp, out = get_in_and_out(30, ntmlstm)\n",
    "ax13.imshow(inp[:-1,:-1], cmap='jet')\n",
    "ax23.imshow(out[:,:], cmap='jet')\n",
    "\n",
    "inp, out = get_in_and_out(40, ntmlstm)\n",
    "ax14.imshow(inp[:-1,:-1], cmap='jet')\n",
    "ax24.imshow(out[:,:], cmap='jet')\n",
    "\n",
    "inp, out = get_in_and_out(100, ntmlstm)\n",
    "ax30.imshow(inp[:-1,:-1], cmap='jet')\n",
    "ax40.imshow(out[:,:], cmap='jet')\n",
    "plt.show()"
   ]
  },
  {
   "cell_type": "code",
   "execution_count": 100,
   "metadata": {},
   "outputs": [
    {
     "name": "stderr",
     "output_type": "stream",
     "text": [
      "/u/lahlosal/.conda/envs/deep/lib/python3.6/site-packages/torch/serialization.py:316: SourceChangeWarning: source code of class '__main__.RNN' has changed. you can retrieve the original source code by accessing the object's source attribute or set `torch.nn.Module.dump_patches = True` and use the patch tool to revert the changes.\n",
      "  warnings.warn(msg, SourceChangeWarning)\n"
     ]
    },
    {
     "data": {
      "text/plain": [
       "<matplotlib.figure.Figure at 0x7f6ecc3f54a8>"
      ]
     },
     "metadata": {},
     "output_type": "display_data"
    }
   ],
   "source": [
    "%run loadpkl.py\n",
    "rnn = lstmk\n",
    "def generate_sequences(nb_batches, max_len=10, mini_batch_size=10):\n",
    "    # module = torch.cuda if cuda else torch\n",
    "    #print(1)\n",
    "    for batch_idx in range(nb_batches):\n",
    "        # yield one batch\n",
    "        T = np.random.randint(1, max_len + 1)\n",
    "        #T = np.random.choice(list(range(1, max_len + 1)), 1, p=np.arange(1, max_len+1) * 2./((max_len+1) * (max_len)))[0]\n",
    "        X = np.random.randint(0, 2, (mini_batch_size, T + 1, 9)).astype(float)\n",
    "        X[:, :, -1] = np.array(T*[0]+[1])\n",
    "        X[:, -1, :-1] = np.array(8 * [0])\n",
    "\n",
    "\n",
    "        yield Variable(torch.from_numpy(X)).float()  \n",
    "        \n",
    "def generate_sequences_fixed_length(nb_batches, length=10, mini_batch_size=10):\n",
    "    # module = torch.cuda if cuda else torch\n",
    "    #print(1)\n",
    "    for batch_idx in range(nb_batches):\n",
    "        # yield one batch\n",
    "        T = length\n",
    "        X = np.random.randint(0, 2, (mini_batch_size, T + 1, 9)).astype(float)\n",
    "        X[:, :, -1] = np.array(T*[0]+[1])\n",
    "        X[:, -1, :-1] = np.array(8 * [0])\n",
    "\n",
    "\n",
    "        yield Variable(torch.from_numpy(X)).float()  "
   ]
  },
  {
   "cell_type": "code",
   "execution_count": 109,
   "metadata": {},
   "outputs": [
    {
     "name": "stdout",
     "output_type": "stream",
     "text": [
      "Vanilla LSTM\n"
     ]
    },
    {
     "ename": "AttributeError",
     "evalue": "'AxesSubplot' object has no attribute 'cmap'",
     "output_type": "error",
     "traceback": [
      "\u001b[0;31m---------------------------------------------------------------------------\u001b[0m",
      "\u001b[0;31mAttributeError\u001b[0m                            Traceback (most recent call last)",
      "\u001b[0;32m<ipython-input-109-9add95d10570>\u001b[0m in \u001b[0;36m<module>\u001b[0;34m()\u001b[0m\n\u001b[1;32m     49\u001b[0m \u001b[0max30\u001b[0m\u001b[0;34m.\u001b[0m\u001b[0mimshow\u001b[0m\u001b[0;34m(\u001b[0m\u001b[0mreal\u001b[0m\u001b[0;34m[\u001b[0m\u001b[0;34m:\u001b[0m\u001b[0;34m-\u001b[0m\u001b[0;36m1\u001b[0m\u001b[0;34m,\u001b[0m\u001b[0;34m:\u001b[0m\u001b[0;34m-\u001b[0m\u001b[0;36m1\u001b[0m\u001b[0;34m]\u001b[0m\u001b[0;34m,\u001b[0m \u001b[0mcmap\u001b[0m\u001b[0;34m=\u001b[0m\u001b[0;34m'jet'\u001b[0m\u001b[0;34m)\u001b[0m\u001b[0;34m\u001b[0m\u001b[0m\n\u001b[1;32m     50\u001b[0m \u001b[0max40\u001b[0m\u001b[0;34m.\u001b[0m\u001b[0mimshow\u001b[0m\u001b[0;34m(\u001b[0m\u001b[0mtrial\u001b[0m\u001b[0;34m[\u001b[0m\u001b[0;34m:\u001b[0m\u001b[0;34m-\u001b[0m\u001b[0;36m1\u001b[0m\u001b[0;34m,\u001b[0m\u001b[0;34m:\u001b[0m\u001b[0;34m]\u001b[0m\u001b[0;34m,\u001b[0m \u001b[0mcmap\u001b[0m\u001b[0;34m=\u001b[0m\u001b[0;34m'jet'\u001b[0m\u001b[0;34m)\u001b[0m\u001b[0;34m\u001b[0m\u001b[0m\n\u001b[0;32m---> 51\u001b[0;31m \u001b[0max40\u001b[0m\u001b[0;34m.\u001b[0m\u001b[0mcmap\u001b[0m\u001b[0;34m(\u001b[0m\u001b[0;34m)\u001b[0m\u001b[0;34m\u001b[0m\u001b[0m\n\u001b[0m\u001b[1;32m     52\u001b[0m \u001b[0mplt\u001b[0m\u001b[0;34m.\u001b[0m\u001b[0mshow\u001b[0m\u001b[0;34m(\u001b[0m\u001b[0;34m)\u001b[0m\u001b[0;34m\u001b[0m\u001b[0m\n",
      "\u001b[0;31mAttributeError\u001b[0m: 'AxesSubplot' object has no attribute 'cmap'"
     ]
    },
    {
     "data": {
      "image/png": "[encoded data removed]",
      "text/plain": [
       "<matplotlib.figure.Figure at 0x7f6ed4bf0940>"
      ]
     },
     "metadata": {},
     "output_type": "display_data"
    }
   ],
   "source": [
    "plt.rcParams['figure.figsize'] = (15, 6)\n",
    "ax11 = plt.subplot2grid((4, 10), (0, 0))\n",
    "ax12 = plt.subplot2grid((4, 10), (0, 1), colspan=2)\n",
    "ax13 = plt.subplot2grid((4, 10), (0, 3), colspan=3)\n",
    "ax14 = plt.subplot2grid((4, 10), (0, 6), colspan=4)\n",
    "ax21 = plt.subplot2grid((4, 10), (1, 0))\n",
    "ax22 = plt.subplot2grid((4, 10), (1, 1), colspan=2)\n",
    "ax23 = plt.subplot2grid((4, 10), (1, 3), colspan=3)\n",
    "ax24 = plt.subplot2grid((4, 10), (1, 6), colspan=6)\n",
    "ax30 = plt.subplot2grid((4, 10), (2, 0), colspan=10)\n",
    "ax40 = plt.subplot2grid((4, 10), (3, 0), colspan=10)\n",
    "axes = [ax11, ax12, ax13, ax14, ax21, ax22, ax23, ax24, ax30, ax40]\n",
    "for ax in axes:\n",
    "    ax.axis('off')\n",
    "print('Vanilla LSTM')\n",
    "test = list(generate_sequences_fixed_length(1, 10 ,7))[0].cuda()\n",
    "out = rnn(test)\n",
    "\n",
    "real = test[0].data.cpu().numpy().T\n",
    "trial = out[0].data.cpu().numpy().T\n",
    "ax11.imshow(real[:-1,:-1], cmap='jet')\n",
    "ax21.imshow(trial[:-1,:], cmap='jet')\n",
    "\n",
    "test = list(generate_sequences_fixed_length(1, 20 ,7))[0].cuda()\n",
    "out = rnn(test)\n",
    "real = test[0].data.cpu().numpy().T\n",
    "trial = out[0].data.cpu().numpy().T\n",
    "ax12.imshow(real[:-1,:-1], cmap='jet')\n",
    "ax22.imshow(trial[:-1,:], cmap='jet')\n",
    "\n",
    "test = list(generate_sequences_fixed_length(1, 30 ,7))[0].cuda()\n",
    "out = rnn(test)\n",
    "real = test[0].data.cpu().numpy().T\n",
    "trial = out[0].data.cpu().numpy().T\n",
    "ax13.imshow(real[:-1,:-1], cmap='jet')\n",
    "ax23.imshow(trial[:-1,:], cmap='jet')\n",
    "\n",
    "test = list(generate_sequences_fixed_length(1, 40 ,7))[0].cuda()\n",
    "out = rnn(test)\n",
    "real = test[0].data.cpu().numpy().T\n",
    "trial = out[0].data.cpu().numpy().T\n",
    "ax14.imshow(real[:-1,:-1], cmap='jet')\n",
    "ax24.imshow(trial[:-1,:], cmap='jet')\n",
    "\n",
    "test = list(generate_sequences_fixed_length(1, 100 ,7))[0].cuda()\n",
    "out = rnn(test)\n",
    "real = test[0].data.cpu().numpy().T\n",
    "trial = out[0].data.cpu().numpy().T\n",
    "ax30.imshow(real[:-1,:-1], cmap='jet')\n",
    "ax40.imshow(trial[:-1,:], cmap='jet')\n",
    "ax40.cmap()\n",
    "plt.show()"
   ]
  },
  {
   "cell_type": "code",
   "execution_count": null,
   "metadata": {},
   "outputs": [],
   "source": []
  },
  {
   "cell_type": "code",
   "execution_count": null,
   "metadata": {},
   "outputs": [],
   "source": []
  },
  {
   "cell_type": "code",
   "execution_count": null,
   "metadata": {},
   "outputs": [],
   "source": []
  },
  {
   "cell_type": "code",
   "execution_count": null,
   "metadata": {},
   "outputs": [],
   "source": []
  },
  {
   "cell_type": "code",
   "execution_count": null,
   "metadata": {},
   "outputs": [],
   "source": []
  },
  {
   "cell_type": "code",
   "execution_count": null,
   "metadata": {},
   "outputs": [],
   "source": []
  },
  {
   "cell_type": "code",
   "execution_count": null,
   "metadata": {},
   "outputs": [],
   "source": []
  },
  {
   "cell_type": "code",
   "execution_count": null,
   "metadata": {},
   "outputs": [],
   "source": []
  },
  {
   "cell_type": "code",
   "execution_count": null,
   "metadata": {},
   "outputs": [],
   "source": []
  }
 ],
 "metadata": {
  "kernelspec": {
   "display_name": "Python 3",
   "language": "python3",
   "name": "python3"
  },
  "language_info": {
   "codemirror_mode": {
    "name": "ipython",
    "version": 3
   },
   "file_extension": ".py",
   "mimetype": "text/x-python",
   "name": "python",
   "nbconvert_exporter": "python",
   "pygments_lexer": "ipython3",
   "version": "3.6.4"
  }
 },
 "nbformat": 4,
 "nbformat_minor": 2
}
