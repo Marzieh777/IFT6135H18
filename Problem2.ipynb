{
 "cells": [
  {
   "cell_type": "code",
   "execution_count": 2,
   "metadata": {},
   "outputs": [],
   "source": [
    "import torch\n",
    "from torch.autograd import Variable\n",
    "import torch.nn as nn\n",
    "import torch.nn.functional as F\n",
    "import numpy as np\n",
    "import pandas as pd\n",
    "from matplotlib import pyplot as plt\n",
    "from scipy.sparse import csr_matrix"
   ]
  },
  {
   "cell_type": "code",
   "execution_count": 3,
   "metadata": {},
   "outputs": [],
   "source": [
    "vocab = open('20news-bydate/vocabulary.txt', 'r').read().split()\n",
    "Y_train = np.array(list(map(int, open('20news-bydate/matlab/train.label', 'r').read().split()))) - 1\n",
    "Y_test = np.array(list(map(int, open('20news-bydate/matlab/test.label', 'r').read().split()))) - 1\n",
    "m_train = len(Y_train)\n",
    "m_test = len(Y_test)\n",
    "LEN_VOCAB = len(vocab)"
   ]
  },
  {
   "cell_type": "code",
   "execution_count": 4,
   "metadata": {},
   "outputs": [],
   "source": [
    "X_train_raw = pd.read_csv('20news-bydate/matlab/train.data', sep=' ', header=None, names=['doc', 'word', 'count'])\n",
    "X_test_raw = pd.read_csv('20news-bydate/matlab/test.data', sep=' ', header=None, names=['doc', 'word', 'count'])"
   ]
  },
  {
   "cell_type": "code",
   "execution_count": 5,
   "metadata": {},
   "outputs": [],
   "source": [
    "X_train = X_train_raw.groupby('doc').apply(lambda x: dict(zip(x['word'], x['count'])))\n",
    "X_test = X_test_raw.groupby('doc').apply(lambda x: dict(zip(x['word'], x['count'])))"
   ]
  },
  {
   "cell_type": "code",
   "execution_count": 29,
   "metadata": {},
   "outputs": [],
   "source": [
    "def from_dic_to_array(dic):\n",
    "    ar = np.zeros(LEN_VOCAB)\n",
    "    for i, j in dic.items():\n",
    "        ar[i-1] = j\n",
    "    return ar"
   ]
  },
  {
   "cell_type": "code",
   "execution_count": 30,
   "metadata": {},
   "outputs": [
    {
     "name": "stdout",
     "output_type": "stream",
     "text": [
      "Net(\n",
      "  (fc1): Linear(in_features=61188, out_features=100)\n",
      "  (fc2): Linear(in_features=100, out_features=20)\n",
      ")\n"
     ]
    }
   ],
   "source": [
    "class Net(nn.Module):\n",
    "\n",
    "    def __init__(self, input_size=LEN_VOCAB, output_size=20, hidden_layer_size=100):\n",
    "        super(Net, self).__init__()\n",
    "        self.fc1 = nn.Linear(input_size, hidden_layer_size, bias=True)\n",
    "        self.fc2 = nn.Linear(hidden_layer_size, output_size, bias=True)\n",
    "        torch.nn.init.xavier_uniform(self.fc1.weight)\n",
    "        torch.nn.init.xavier_uniform(self.fc2.weight)\n",
    "\n",
    "    def forward(self, x):\n",
    "        x = F.relu(self.fc1(x))\n",
    "        x = F.sigmoid(self.fc2(x))\n",
    "        return x\n",
    "\n",
    "net = Net()\n",
    "print(net)\n",
    "criterion = nn.CrossEntropyLoss()\n",
    "\n",
    "import torch.optim as optim"
   ]
  },
  {
   "cell_type": "code",
   "execution_count": 31,
   "metadata": {},
   "outputs": [],
   "source": [
    "import math\n",
    "def random_mini_batches_idx(m, mini_batch_size = 64, seed = 0):\n",
    "    permutation = np.random.permutation(m)\n",
    "    num_complete_minibatches = int(math.floor(m/mini_batch_size)) # number of mini batches of size mini_batch_size in your partitionning\n",
    "    list_of_indices = []\n",
    "    for k in range(0, num_complete_minibatches):\n",
    "        list_of_indices.append(list(permutation[k * mini_batch_size: k * mini_batch_size + mini_batch_size]))\n",
    "    # Handling the end case (last mini-batch < mini_batch_size)\n",
    "    if m % mini_batch_size != 0:\n",
    "        list_of_indices.append(list(permutation[num_complete_minibatches * mini_batch_size : m]))\n",
    "    return list_of_indices"
   ]
  },
  {
   "cell_type": "code",
   "execution_count": 32,
   "metadata": {},
   "outputs": [],
   "source": [
    "def get_accuracy(net, X, Y):\n",
    "    minibatches_indices = random_mini_batches_idx(len(X), mini_batch_size=10)\n",
    "    total_correct = 0\n",
    "    total_examples = 0\n",
    "    for i, indices in enumerate(minibatches_indices):\n",
    "        # get the inputs\n",
    "        X_minibatch = X.iloc[indices]\n",
    "        inputs = np.vstack(X_minibatch.apply(from_dic_to_array).tolist())\n",
    "        labels = Y[indices]\n",
    "        inputs = torch.from_numpy(inputs).float()\n",
    "        true_labels = torch.from_numpy(labels).long()\n",
    "        # wrap them in Variable\n",
    "        inputs, labels = Variable(inputs), Variable(true_labels)\n",
    "        # forward + backward + optimize\n",
    "        outputs = net(inputs)\n",
    "        _, predicted = torch.max(outputs.data, 1)\n",
    "        total_correct += (predicted == true_labels).sum()\n",
    "        total_examples += len(indices)\n",
    "    return float(total_correct)/total_examples"
   ]
  },
  {
   "cell_type": "code",
   "execution_count": 36,
   "metadata": {},
   "outputs": [],
   "source": [
    "def model(X_train, X_test, Y_train, Y_test, n_epochs=3, weight_decay=0,\n",
    "          lr=0.01, momentum=.9, mini_batch_size=8, seed=0, print_every=None):\n",
    "    net = Net()\n",
    "    if print_every is None:\n",
    "        print_every = int(len(X_train) / (4 * mini_batch_size))\n",
    "    optimizer = optim.SGD(net.parameters(), lr=lr, momentum=momentum, weight_decay=weight_decay)\n",
    "    nets = [net]\n",
    "    acc_train = get_accuracy(net, X_train, Y_train)\n",
    "    acc_test = get_accuracy(net, X_test, Y_test)\n",
    "    print (\"Accuracy on training set: {0}\".format(acc_train))\n",
    "    print (\"Accuracy on test set: {0}\".format(acc_test))\n",
    "    accuracies_train = [acc_train]\n",
    "    accuracies_test = [acc_test]\n",
    "    for epoch in range(n_epochs):  # loop over the dataset multiple times\n",
    "        minibatches_indices = random_mini_batches_idx(m_train, mini_batch_size=mini_batch_size, seed=seed)\n",
    "        running_loss = 0.0\n",
    "        total_correct = 0\n",
    "        total_examples = 0\n",
    "        for i, indices in enumerate(minibatches_indices):\n",
    "            # get the inputs\n",
    "            X_minibatch = X_train.iloc[indices]\n",
    "            inputs = np.vstack(X_minibatch.apply(from_dic_to_array).tolist())\n",
    "            labels = Y_train[indices]\n",
    "            inputs = torch.from_numpy(inputs).float()\n",
    "            true_labels = torch.from_numpy(labels).long()\n",
    "            # wrap them in Variable\n",
    "            inputs, labels = Variable(inputs), Variable(true_labels)\n",
    "            # zero the parameter gradients\n",
    "            optimizer.zero_grad()\n",
    "            # forward + backward + optimize\n",
    "            outputs = net(inputs)\n",
    "            loss = criterion(outputs, labels)\n",
    "            loss.backward()\n",
    "            optimizer.step()\n",
    "            # print statistics\n",
    "            running_loss += loss.data[0]\n",
    "            if i % print_every == print_every - 1:    # print every 2000 mini-batches\n",
    "                print('[%d, %5d] loss: %.4f' %\n",
    "                      (epoch + 1, i + 1, running_loss / 2000))\n",
    "                running_loss = 0.0\n",
    "        acc_train = get_accuracy(net, X_train, Y_train)\n",
    "        acc_test = get_accuracy(net, X_test, Y_test)\n",
    "        print (\"Accuracy on training set: {0}\".format(acc_train))\n",
    "        print (\"Accuracy on test set: {0}\".format(acc_test))\n",
    "        accuracies_train.append(acc_train)\n",
    "        accuracies_test.append(acc_test)\n",
    "        nets.append(net)\n",
    "    print('Finished Training')\n",
    "    return nets, accuracies_train, accuracies_test"
   ]
  },
  {
   "cell_type": "code",
   "execution_count": 160,
   "metadata": {},
   "outputs": [
    {
     "name": "stdout",
     "output_type": "stream",
     "text": [
      "Accuracy on training set: 0.04969385038601473\n",
      "Accuracy on test set: 0.05063291139240506\n",
      "[1,   352] loss: 0.5123\n",
      "[1,   704] loss: 0.4771\n",
      "[1,  1056] loss: 0.4574\n",
      "[1,  1408] loss: 0.4466\n",
      "Accuracy on training set: 0.5426390984115715\n",
      "Accuracy on test set: 0.42025316455696204\n",
      "[2,   352] loss: 0.4315\n",
      "[2,   704] loss: 0.4364\n",
      "[2,  1056] loss: 0.4236\n",
      "[2,  1408] loss: 0.4208\n",
      "Accuracy on training set: 0.7405271097701659\n",
      "Accuracy on test set: 0.5905396402398401\n",
      "[3,   352] loss: 0.4098\n",
      "[3,   704] loss: 0.4063\n",
      "[3,  1056] loss: 0.4094\n",
      "[3,  1408] loss: 0.4119\n",
      "Accuracy on training set: 0.8199485313692431\n",
      "Accuracy on test set: 0.6475682878081279\n",
      "[4,   352] loss: 0.4049\n",
      "[4,   704] loss: 0.3997\n",
      "[4,  1056] loss: 0.4047\n",
      "[4,  1408] loss: 0.3989\n",
      "Accuracy on training set: 0.803354334901056\n",
      "Accuracy on test set: 0.6157228514323784\n",
      "[5,   352] loss: 0.3933\n",
      "[5,   704] loss: 0.3922\n",
      "[5,  1056] loss: 0.3937\n",
      "[5,  1408] loss: 0.3915\n",
      "Accuracy on training set: 0.8570414411216611\n",
      "Accuracy on test set: 0.6567621585609593\n",
      "[6,   352] loss: 0.3868\n",
      "[6,   704] loss: 0.3864\n",
      "[6,  1056] loss: 0.3862\n",
      "[6,  1408] loss: 0.3870\n",
      "Accuracy on training set: 0.8680450794214216\n",
      "Accuracy on test set: 0.661292471685543\n",
      "[7,   352] loss: 0.3850\n",
      "[7,   704] loss: 0.3841\n",
      "[7,  1056] loss: 0.3890\n",
      "[7,  1408] loss: 0.3846\n",
      "Accuracy on training set: 0.8801135859437395\n",
      "Accuracy on test set: 0.6643570952698201\n",
      "[8,   352] loss: 0.3899\n",
      "[8,   704] loss: 0.3873\n",
      "[8,  1056] loss: 0.3810\n",
      "[8,  1408] loss: 0.3834\n",
      "Accuracy on training set: 0.8950217410595439\n",
      "Accuracy on test set: 0.6787475016655563\n",
      "[9,   352] loss: 0.3800\n",
      "[9,   704] loss: 0.3798\n",
      "[9,  1056] loss: 0.3811\n",
      "[9,  1408] loss: 0.3795\n",
      "Accuracy on training set: 0.89661904339338\n",
      "Accuracy on test set: 0.6863424383744171\n",
      "[10,   352] loss: 0.3794\n",
      "[10,   704] loss: 0.3799\n",
      "[10,  1056] loss: 0.3768\n",
      "[10,  1408] loss: 0.3805\n",
      "Accuracy on training set: 0.9042505989883752\n",
      "Accuracy on test set: 0.6828780812791473\n",
      "[11,   352] loss: 0.3768\n",
      "[11,   704] loss: 0.3762\n",
      "[11,  1056] loss: 0.3844\n",
      "[11,  1408] loss: 0.3805\n",
      "Accuracy on training set: 0.8968852604490194\n",
      "Accuracy on test set: 0.6788807461692206\n",
      "[12,   352] loss: 0.3832\n",
      "[12,   704] loss: 0.3842\n",
      "[12,  1056] loss: 0.3774\n",
      "[12,  1408] loss: 0.3784\n",
      "Accuracy on training set: 0.9099298961753483\n",
      "Accuracy on test set: 0.6875416389073951\n",
      "[13,   352] loss: 0.3751\n",
      "[13,   704] loss: 0.3740\n",
      "[13,  1056] loss: 0.3759\n",
      "[13,  1408] loss: 0.3767\n",
      "Accuracy on training set: 0.9165853225663324\n",
      "Accuracy on test set: 0.6984676882078614\n",
      "[14,   352] loss: 0.3757\n",
      "[14,   704] loss: 0.3747\n",
      "[14,  1056] loss: 0.3767\n",
      "[14,  1408] loss: 0.3740\n",
      "Accuracy on training set: 0.8990149968941343\n",
      "Accuracy on test set: 0.6595602931379081\n",
      "[15,   352] loss: 0.3805\n",
      "[15,   704] loss: 0.3781\n",
      "[15,  1056] loss: 0.3755\n",
      "[15,  1408] loss: 0.3741\n",
      "Accuracy on training set: 0.9201348833081906\n",
      "Accuracy on test set: 0.6966022651565623\n",
      "[16,   352] loss: 0.3721\n",
      "[16,   704] loss: 0.3728\n",
      "[16,  1056] loss: 0.3735\n",
      "[16,  1408] loss: 0.3731\n",
      "Accuracy on training set: 0.9185375809743545\n",
      "Accuracy on test set: 0.6992671552298467\n",
      "[17,   352] loss: 0.3880\n",
      "[17,   704] loss: 0.4174\n",
      "[17,  1056] loss: 0.4065\n",
      "[17,  1408] loss: 0.4039\n",
      "Accuracy on training set: 0.23924039400124233\n",
      "Accuracy on test set: 0.17268487674883412\n",
      "[18,   352] loss: 0.4019\n",
      "[18,   704] loss: 0.3987\n",
      "[18,  1056] loss: 0.3977\n",
      "[18,  1408] loss: 0.3987\n",
      "Accuracy on training set: 0.26550714349099297\n",
      "Accuracy on test set: 0.1860093271152565\n",
      "[19,   352] loss: 0.3972\n",
      "[19,   704] loss: 0.3976\n",
      "[19,  1056] loss: 0.3961\n",
      "[19,  1408] loss: 0.3923\n",
      "Accuracy on training set: 0.39240394001242346\n",
      "Accuracy on test set: 0.263690872751499\n",
      "[20,   352] loss: 0.3828\n",
      "[20,   704] loss: 0.3752\n",
      "[20,  1056] loss: 0.3753\n",
      "[20,  1408] loss: 0.3737\n",
      "Accuracy on training set: 0.9235957050315023\n",
      "Accuracy on test set: 0.7037974683544304\n",
      "Finished Training\n"
     ]
    }
   ],
   "source": [
    "nets, accuracies_train, accuracies_test = model(X_train=X_train, X_test=X_test,\n",
    "                                                             Y_train=Y_train, Y_test=Y_test,\n",
    "                                                            n_epochs=20, lr=0.01)"
   ]
  },
  {
   "cell_type": "code",
   "execution_count": 165,
   "metadata": {},
   "outputs": [
    {
     "data": {
      "image/png": "[encoded data removed]",
      "text/plain": [
       "<matplotlib.figure.Figure at 0x7f8b46a85630>"
      ]
     },
     "metadata": {},
     "output_type": "display_data"
    }
   ],
   "source": [
    "plt.plot(accuracies_train, '-o', label='train accuracy')\n",
    "plt.plot(accuracies_test, '-o', label='test accuracy')\n",
    "plt.xlabel('epoch')\n",
    "plt.legend()\n",
    "plt.show()"
   ]
  },
  {
   "cell_type": "markdown",
   "metadata": {},
   "source": [
    "# Preprocessing"
   ]
  },
  {
   "cell_type": "markdown",
   "metadata": {},
   "source": [
    "## TF-IDF"
   ]
  },
  {
   "cell_type": "code",
   "execution_count": 15,
   "metadata": {},
   "outputs": [],
   "source": [
    "number_of_documents_appear = X_train_raw.groupby('word').size().to_dict()\n",
    "idf = {i: np.log(float(len(X_train)) / j) for i, j in number_of_documents_appear.items()}\n",
    "def make_tfidf_dataframe(X):\n",
    "    X.name = 'countDict'\n",
    "    X_tfidf = X.reset_index()\n",
    "    X_tfidf['n_words'] = X_tfidf.apply(lambda x: sum(list(x.countDict.values())), axis=1)\n",
    "    X_tfidf['tf'] = X_tfidf.apply(lambda x: {i: j/float(x.n_words) for i, j in x.countDict.items()}, axis=1)\n",
    "    X_tfidf['tfIDF'] = X_tfidf.apply(lambda x: {i: j * idf[i] if i in idf else 0 for i, j in x.tf.items()}, axis=1)\n",
    "    X_tfidf.index = X_tfidf.doc\n",
    "    return X_tfidf.tfIDF"
   ]
  },
  {
   "cell_type": "code",
   "execution_count": 16,
   "metadata": {},
   "outputs": [],
   "source": [
    "X_tfidf_train = make_tfidf_dataframe(X_train)\n",
    "X_tfidf_test = make_tfidf_dataframe(X_test)"
   ]
  },
  {
   "cell_type": "code",
   "execution_count": 175,
   "metadata": {},
   "outputs": [
    {
     "name": "stdout",
     "output_type": "stream",
     "text": [
      "Accuracy on training set: 0.04161859969828734\n",
      "Accuracy on test set: 0.04263824117255163\n",
      "[1,   352] loss: 0.5271\n",
      "[1,   704] loss: 0.5269\n",
      "[1,  1056] loss: 0.5267\n",
      "[1,  1408] loss: 0.5267\n",
      "Accuracy on training set: 0.052622237998047744\n",
      "Accuracy on test set: 0.05223184543637575\n",
      "[2,   352] loss: 0.5264\n",
      "[2,   704] loss: 0.5264\n",
      "[2,  1056] loss: 0.5264\n",
      "[2,  1408] loss: 0.5261\n",
      "Accuracy on training set: 0.05297719407223356\n",
      "Accuracy on test set: 0.05289806795469687\n",
      "[3,   352] loss: 0.5261\n",
      "[3,   704] loss: 0.5267\n",
      "[3,  1056] loss: 0.5257\n",
      "[3,  1408] loss: 0.5257\n",
      "Accuracy on training set: 0.11136746827580087\n",
      "Accuracy on test set: 0.09620253164556962\n",
      "[4,   352] loss: 0.5257\n",
      "[4,   704] loss: 0.5252\n",
      "[4,  1056] loss: 0.5263\n",
      "[4,  1408] loss: 0.5262\n",
      "Accuracy on training set: 0.07436329754192919\n",
      "Accuracy on test set: 0.0626249167221852\n",
      "[5,   352] loss: 0.5253\n",
      "[5,   704] loss: 0.5254\n",
      "[5,  1056] loss: 0.5261\n",
      "[5,  1408] loss: 0.5253\n",
      "Accuracy on training set: 0.07010382465169936\n",
      "Accuracy on test set: 0.06209193870752831\n",
      "[6,   352] loss: 0.5249\n",
      "[6,   704] loss: 0.5254\n",
      "[6,  1056] loss: 0.5252\n",
      "[6,  1408] loss: 0.5253\n",
      "Accuracy on training set: 0.1260094063359659\n",
      "Accuracy on test set: 0.10712858094603597\n",
      "[7,   352] loss: 0.5251\n",
      "[7,   704] loss: 0.5246\n",
      "[7,  1056] loss: 0.5250\n",
      "[7,  1408] loss: 0.5247\n",
      "Accuracy on training set: 0.10790664655248913\n",
      "Accuracy on test set: 0.10473017988007995\n",
      "[8,   352] loss: 0.5245\n",
      "[8,   704] loss: 0.5249\n",
      "[8,  1056] loss: 0.5239\n",
      "[8,  1408] loss: 0.5241\n",
      "Accuracy on training set: 0.27801934510604315\n",
      "Accuracy on test set: 0.22931379080612924\n",
      "[9,   352] loss: 0.5240\n",
      "[9,   704] loss: 0.5236\n",
      "[9,  1056] loss: 0.5241\n",
      "[9,  1408] loss: 0.5235\n",
      "Accuracy on training set: 0.32318750554618864\n",
      "Accuracy on test set: 0.25489673550966024\n",
      "[10,   352] loss: 0.5235\n",
      "[10,   704] loss: 0.5232\n",
      "[10,  1056] loss: 0.5227\n",
      "[10,  1408] loss: 0.5231\n",
      "Accuracy on training set: 0.3286893246960689\n",
      "Accuracy on test set: 0.27581612258494337\n",
      "[11,   352] loss: 0.5223\n",
      "[11,   704] loss: 0.5230\n",
      "[11,  1056] loss: 0.5217\n",
      "[11,  1408] loss: 0.5219\n",
      "Accuracy on training set: 0.20409974265684622\n",
      "Accuracy on test set: 0.17388407728181213\n",
      "[12,   352] loss: 0.5218\n",
      "[12,   704] loss: 0.5209\n",
      "[12,  1056] loss: 0.5207\n",
      "[12,  1408] loss: 0.5212\n",
      "Accuracy on training set: 0.34892182092466056\n",
      "Accuracy on test set: 0.28247834776815456\n",
      "[13,   352] loss: 0.5202\n",
      "[13,   704] loss: 0.5198\n",
      "[13,  1056] loss: 0.5195\n",
      "[13,  1408] loss: 0.5195\n",
      "Accuracy on training set: 0.35557724731564466\n",
      "Accuracy on test set: 0.31419053964023985\n",
      "[14,   352] loss: 0.5186\n",
      "[14,   704] loss: 0.5184\n",
      "[14,  1056] loss: 0.5179\n",
      "[14,  1408] loss: 0.5178\n",
      "Accuracy on training set: 0.498447067175437\n",
      "Accuracy on test set: 0.38667554963357764\n",
      "[15,   352] loss: 0.5171\n",
      "[15,   704] loss: 0.5166\n",
      "[15,  1056] loss: 0.5161\n",
      "[15,  1408] loss: 0.5148\n",
      "Accuracy on training set: 0.5007542816576449\n",
      "Accuracy on test set: 0.40706195869420386\n",
      "[16,   352] loss: 0.5146\n",
      "[16,   704] loss: 0.5138\n",
      "[16,  1056] loss: 0.5134\n",
      "[16,  1408] loss: 0.5128\n",
      "Accuracy on training set: 0.4912592066731742\n",
      "Accuracy on test set: 0.38574283810792803\n",
      "[17,   352] loss: 0.5119\n",
      "[17,   704] loss: 0.5110\n",
      "[17,  1056] loss: 0.5103\n",
      "[17,  1408] loss: 0.5097\n",
      "Accuracy on training set: 0.4092643535362499\n",
      "Accuracy on test set: 0.3279147235176549\n",
      "[18,   352] loss: 0.5089\n",
      "[18,   704] loss: 0.5073\n",
      "[18,  1056] loss: 0.5074\n",
      "[18,  1408] loss: 0.5060\n",
      "Accuracy on training set: 0.5797320081639897\n",
      "Accuracy on test set: 0.4671552298467688\n",
      "[19,   352] loss: 0.5053\n",
      "[19,   704] loss: 0.5038\n",
      "[19,  1056] loss: 0.5036\n",
      "[19,  1408] loss: 0.5016\n",
      "Accuracy on training set: 0.6054663235424617\n",
      "Accuracy on test set: 0.5056628914057295\n",
      "[20,   352] loss: 0.5008\n",
      "[20,   704] loss: 0.5006\n",
      "[20,  1056] loss: 0.4988\n",
      "[20,  1408] loss: 0.4979\n",
      "Accuracy on training set: 0.6122104889519921\n",
      "Accuracy on test set: 0.4754163890739507\n",
      "Finished Training\n"
     ]
    }
   ],
   "source": [
    "nets_tfidf, accuracies_train_tfidf, accuracies_test_tfidf = model(X_train=X_tfidf_train,\n",
    "                                                      X_test=X_tfidf_test,\n",
    "                                                      Y_train=Y_train, Y_test=Y_test,\n",
    "                                                      n_epochs=20, \n",
    "                                                      #mini_batch_size=64,\n",
    "                                                      lr=0.01)"
   ]
  },
  {
   "cell_type": "code",
   "execution_count": 176,
   "metadata": {},
   "outputs": [
    {
     "data": {
      "image/png": "[encoded data removed]",
      "text/plain": [
       "<matplotlib.figure.Figure at 0x7f8b52f2ef28>"
      ]
     },
     "metadata": {},
     "output_type": "display_data"
    }
   ],
   "source": [
    "plt.plot(accuracies_train_tfidf, '-o', label='train accuracy')\n",
    "plt.plot(accuracies_test_tfidf, '-o', label='test accuracy')\n",
    "plt.xlabel('epoch')\n",
    "plt.legend()\n",
    "plt.show()"
   ]
  },
  {
   "cell_type": "markdown",
   "metadata": {},
   "source": [
    "# Standardization"
   ]
  },
  {
   "cell_type": "code",
   "execution_count": 46,
   "metadata": {},
   "outputs": [],
   "source": [
    "word_list = X_train_raw.groupby('word')['count'].apply(list)\n",
    "word_stddevs = word_list.apply(lambda x: np.std(x + [0] * (m_train - len(x)))).to_dict()\n",
    "word_means = word_list.apply(lambda x: np.mean(x + [0] * (m_train - len(x)))).to_dict()\n",
    "def make_standard(X, epsilon=1e-5):\n",
    "    X_stan = X.apply(lambda x: {i : (j-word_means[i])/(word_stddevs[i] + epsilon) if i in word_means else 0 for i, j in x.items()})\n",
    "    return X_stan"
   ]
  },
  {
   "cell_type": "code",
   "execution_count": 47,
   "metadata": {},
   "outputs": [],
   "source": [
    "X_stan_train = make_standard(X_train)\n",
    "X_stan_test = make_standard(X_test)"
   ]
  },
  {
   "cell_type": "code",
   "execution_count": 52,
   "metadata": {},
   "outputs": [
    {
     "name": "stdout",
     "output_type": "stream",
     "text": [
      "Accuracy on training set: 0.05208980388676901\n",
      "Accuracy on test set: 0.049966688874083946\n",
      "[1,   352] loss: 0.4975\n",
      "[1,   704] loss: 0.4961\n",
      "[1,  1056] loss: 0.4966\n",
      "[1,  1408] loss: 0.4948\n",
      "Accuracy on training set: 0.43118289111722424\n",
      "Accuracy on test set: 0.35562958027981345\n",
      "[2,   352] loss: 0.4928\n",
      "[2,   704] loss: 0.4941\n",
      "[2,  1056] loss: 0.4938\n",
      "[2,  1408] loss: 0.4941\n",
      "Accuracy on training set: 0.36808944893069484\n",
      "Accuracy on test set: 0.3055296469020653\n",
      "[3,   352] loss: 0.4915\n",
      "[3,   704] loss: 0.4938\n",
      "[3,  1056] loss: 0.4947\n",
      "[3,  1408] loss: 0.4937\n",
      "Accuracy on training set: 0.389386813381844\n",
      "Accuracy on test set: 0.33031312458361095\n",
      "[4,   352] loss: 0.4910\n",
      "[4,   704] loss: 0.4934\n",
      "[4,  1056] loss: 0.4940\n",
      "[4,  1408] loss: 0.4949\n",
      "Accuracy on training set: 0.3500754281657645\n",
      "Accuracy on test set: 0.3039307128580946\n",
      "[5,   352] loss: 0.4914\n",
      "[5,   704] loss: 0.4952\n",
      "[5,  1056] loss: 0.4935\n",
      "[5,  1408] loss: 0.4937\n",
      "Accuracy on training set: 0.3790930872304552\n",
      "Accuracy on test set: 0.3073950699533644\n",
      "[6,   352] loss: 0.4914\n",
      "[6,   704] loss: 0.4924\n",
      "[6,  1056] loss: 0.4941\n",
      "[6,  1408] loss: 0.4955\n",
      "Accuracy on training set: 0.32061407400834147\n",
      "Accuracy on test set: 0.279147235176549\n",
      "[7,   352] loss: 0.4900\n",
      "[7,   704] loss: 0.4932\n",
      "[7,  1056] loss: 0.4940\n",
      "[7,  1408] loss: 0.4946\n",
      "Accuracy on training set: 0.359925459224421\n",
      "Accuracy on test set: 0.30752831445702866\n",
      "[8,   352] loss: 0.4906\n"
     ]
    },
    {
     "ename": "KeyboardInterrupt",
     "evalue": "",
     "output_type": "error",
     "traceback": [
      "\u001b[0;31m---------------------------------------------------------------------------\u001b[0m",
      "\u001b[0;31mKeyboardInterrupt\u001b[0m                         Traceback (most recent call last)",
      "\u001b[0;32m<ipython-input-52-0729a7426a3c>\u001b[0m in \u001b[0;36m<module>\u001b[0;34m()\u001b[0m\n\u001b[1;32m      5\u001b[0m                                                               \u001b[0mweight_decay\u001b[0m\u001b[0;34m=\u001b[0m\u001b[0;36m0.1\u001b[0m\u001b[0;34m,\u001b[0m\u001b[0;34m\u001b[0m\u001b[0m\n\u001b[1;32m      6\u001b[0m                                                               \u001b[0;31m#mini_batch_size=64,\u001b[0m\u001b[0;34m\u001b[0m\u001b[0;34m\u001b[0m\u001b[0m\n\u001b[0;32m----> 7\u001b[0;31m                                                               lr=0.01)\n\u001b[0m",
      "\u001b[0;32m<ipython-input-36-a1db8b0706fc>\u001b[0m in \u001b[0;36mmodel\u001b[0;34m(X_train, X_test, Y_train, Y_test, n_epochs, weight_decay, lr, momentum, mini_batch_size, seed, print_every)\u001b[0m\n\u001b[1;32m     32\u001b[0m             \u001b[0mloss\u001b[0m \u001b[0;34m=\u001b[0m \u001b[0mcriterion\u001b[0m\u001b[0;34m(\u001b[0m\u001b[0moutputs\u001b[0m\u001b[0;34m,\u001b[0m \u001b[0mlabels\u001b[0m\u001b[0;34m)\u001b[0m\u001b[0;34m\u001b[0m\u001b[0m\n\u001b[1;32m     33\u001b[0m             \u001b[0mloss\u001b[0m\u001b[0;34m.\u001b[0m\u001b[0mbackward\u001b[0m\u001b[0;34m(\u001b[0m\u001b[0;34m)\u001b[0m\u001b[0;34m\u001b[0m\u001b[0m\n\u001b[0;32m---> 34\u001b[0;31m             \u001b[0moptimizer\u001b[0m\u001b[0;34m.\u001b[0m\u001b[0mstep\u001b[0m\u001b[0;34m(\u001b[0m\u001b[0;34m)\u001b[0m\u001b[0;34m\u001b[0m\u001b[0m\n\u001b[0m\u001b[1;32m     35\u001b[0m             \u001b[0;31m# print statistics\u001b[0m\u001b[0;34m\u001b[0m\u001b[0;34m\u001b[0m\u001b[0m\n\u001b[1;32m     36\u001b[0m             \u001b[0mrunning_loss\u001b[0m \u001b[0;34m+=\u001b[0m \u001b[0mloss\u001b[0m\u001b[0;34m.\u001b[0m\u001b[0mdata\u001b[0m\u001b[0;34m[\u001b[0m\u001b[0;36m0\u001b[0m\u001b[0;34m]\u001b[0m\u001b[0;34m\u001b[0m\u001b[0m\n",
      "\u001b[0;32m~/.local/lib/python3.6/site-packages/torch/optim/sgd.py\u001b[0m in \u001b[0;36mstep\u001b[0;34m(self, closure)\u001b[0m\n\u001b[1;32m     92\u001b[0m                     \u001b[0;32melse\u001b[0m\u001b[0;34m:\u001b[0m\u001b[0;34m\u001b[0m\u001b[0m\n\u001b[1;32m     93\u001b[0m                         \u001b[0mbuf\u001b[0m \u001b[0;34m=\u001b[0m \u001b[0mparam_state\u001b[0m\u001b[0;34m[\u001b[0m\u001b[0;34m'momentum_buffer'\u001b[0m\u001b[0;34m]\u001b[0m\u001b[0;34m\u001b[0m\u001b[0m\n\u001b[0;32m---> 94\u001b[0;31m                         \u001b[0mbuf\u001b[0m\u001b[0;34m.\u001b[0m\u001b[0mmul_\u001b[0m\u001b[0;34m(\u001b[0m\u001b[0mmomentum\u001b[0m\u001b[0;34m)\u001b[0m\u001b[0;34m.\u001b[0m\u001b[0madd_\u001b[0m\u001b[0;34m(\u001b[0m\u001b[0;36m1\u001b[0m \u001b[0;34m-\u001b[0m \u001b[0mdampening\u001b[0m\u001b[0;34m,\u001b[0m \u001b[0md_p\u001b[0m\u001b[0;34m)\u001b[0m\u001b[0;34m\u001b[0m\u001b[0m\n\u001b[0m\u001b[1;32m     95\u001b[0m                     \u001b[0;32mif\u001b[0m \u001b[0mnesterov\u001b[0m\u001b[0;34m:\u001b[0m\u001b[0;34m\u001b[0m\u001b[0m\n\u001b[1;32m     96\u001b[0m                         \u001b[0md_p\u001b[0m \u001b[0;34m=\u001b[0m \u001b[0md_p\u001b[0m\u001b[0;34m.\u001b[0m\u001b[0madd\u001b[0m\u001b[0;34m(\u001b[0m\u001b[0mmomentum\u001b[0m\u001b[0;34m,\u001b[0m \u001b[0mbuf\u001b[0m\u001b[0;34m)\u001b[0m\u001b[0;34m\u001b[0m\u001b[0m\n",
      "\u001b[0;31mKeyboardInterrupt\u001b[0m: "
     ]
    }
   ],
   "source": [
    "nets_stan, accuracies_train_stan, accuracies_test_stan = model(X_train=X_stan_train,\n",
    "                                                              X_test=X_stan_test,\n",
    "                                                              Y_train=Y_train, Y_test=Y_test,\n",
    "                                                              n_epochs=20, \n",
    "                                                              weight_decay=0.1,\n",
    "                                                              #mini_batch_size=64,\n",
    "                                                              lr=0.01)"
   ]
  },
  {
   "cell_type": "code",
   "execution_count": 180,
   "metadata": {},
   "outputs": [
    {
     "data": {
      "image/png": "[encoded data removed]",
      "text/plain": [
       "<matplotlib.figure.Figure at 0x7f8b5131cd68>"
      ]
     },
     "metadata": {},
     "output_type": "display_data"
    }
   ],
   "source": [
    "plt.plot(accuracies_train_stan, '-o', label='train accuracy')\n",
    "plt.plot(accuracies_test_stan, '-o', label='test accuracy')\n",
    "plt.xlabel('epoch')\n",
    "plt.legend()\n",
    "plt.show()"
   ]
  },
  {
   "cell_type": "code",
   "execution_count": null,
   "metadata": {},
   "outputs": [],
   "source": []
  },
  {
   "cell_type": "code",
   "execution_count": null,
   "metadata": {},
   "outputs": [],
   "source": []
  },
  {
   "cell_type": "code",
   "execution_count": null,
   "metadata": {},
   "outputs": [],
   "source": []
  },
  {
   "cell_type": "code",
   "execution_count": null,
   "metadata": {},
   "outputs": [],
   "source": []
  },
  {
   "cell_type": "code",
   "execution_count": null,
   "metadata": {},
   "outputs": [],
   "source": []
  },
  {
   "cell_type": "code",
   "execution_count": null,
   "metadata": {},
   "outputs": [],
   "source": []
  },
  {
   "cell_type": "code",
   "execution_count": null,
   "metadata": {},
   "outputs": [],
   "source": []
  },
  {
   "cell_type": "code",
   "execution_count": null,
   "metadata": {},
   "outputs": [],
   "source": []
  },
  {
   "cell_type": "code",
   "execution_count": null,
   "metadata": {},
   "outputs": [],
   "source": []
  },
  {
   "cell_type": "code",
   "execution_count": null,
   "metadata": {},
   "outputs": [],
   "source": []
  },
  {
   "cell_type": "code",
   "execution_count": null,
   "metadata": {},
   "outputs": [],
   "source": []
  },
  {
   "cell_type": "code",
   "execution_count": null,
   "metadata": {},
   "outputs": [],
   "source": []
  },
  {
   "cell_type": "code",
   "execution_count": null,
   "metadata": {},
   "outputs": [],
   "source": []
  },
  {
   "cell_type": "code",
   "execution_count": null,
   "metadata": {},
   "outputs": [],
   "source": []
  },
  {
   "cell_type": "code",
   "execution_count": null,
   "metadata": {},
   "outputs": [],
   "source": []
  },
  {
   "cell_type": "code",
   "execution_count": null,
   "metadata": {},
   "outputs": [],
   "source": []
  },
  {
   "cell_type": "code",
   "execution_count": null,
   "metadata": {},
   "outputs": [],
   "source": []
  },
  {
   "cell_type": "code",
   "execution_count": null,
   "metadata": {},
   "outputs": [],
   "source": []
  },
  {
   "cell_type": "code",
   "execution_count": null,
   "metadata": {},
   "outputs": [],
   "source": []
  },
  {
   "cell_type": "code",
   "execution_count": null,
   "metadata": {},
   "outputs": [],
   "source": []
  },
  {
   "cell_type": "code",
   "execution_count": null,
   "metadata": {},
   "outputs": [],
   "source": []
  },
  {
   "cell_type": "code",
   "execution_count": null,
   "metadata": {},
   "outputs": [],
   "source": []
  },
  {
   "cell_type": "code",
   "execution_count": null,
   "metadata": {},
   "outputs": [],
   "source": []
  },
  {
   "cell_type": "code",
   "execution_count": null,
   "metadata": {},
   "outputs": [],
   "source": []
  },
  {
   "cell_type": "code",
   "execution_count": null,
   "metadata": {},
   "outputs": [],
   "source": []
  },
  {
   "cell_type": "code",
   "execution_count": null,
   "metadata": {},
   "outputs": [],
   "source": []
  },
  {
   "cell_type": "code",
   "execution_count": null,
   "metadata": {},
   "outputs": [],
   "source": []
  },
  {
   "cell_type": "code",
   "execution_count": null,
   "metadata": {},
   "outputs": [],
   "source": []
  },
  {
   "cell_type": "code",
   "execution_count": null,
   "metadata": {},
   "outputs": [],
   "source": []
  },
  {
   "cell_type": "code",
   "execution_count": null,
   "metadata": {},
   "outputs": [],
   "source": []
  },
  {
   "cell_type": "code",
   "execution_count": null,
   "metadata": {},
   "outputs": [],
   "source": []
  },
  {
   "cell_type": "code",
   "execution_count": null,
   "metadata": {},
   "outputs": [],
   "source": []
  },
  {
   "cell_type": "code",
   "execution_count": null,
   "metadata": {},
   "outputs": [],
   "source": []
  }
 ],
 "metadata": {
  "kernelspec": {
   "display_name": "Python 3",
   "language": "python",
   "name": "python3"
  },
  "language_info": {
   "codemirror_mode": {
    "name": "ipython",
    "version": 3
   },
   "file_extension": ".py",
   "mimetype": "text/x-python",
   "name": "python",
   "nbconvert_exporter": "python",
   "pygments_lexer": "ipython3",
   "version": "3.6.3"
  }
 },
 "nbformat": 4,
 "nbformat_minor": 2
}
